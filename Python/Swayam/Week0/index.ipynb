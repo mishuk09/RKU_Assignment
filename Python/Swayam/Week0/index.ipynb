{
 "cells": [
  {
   "cell_type": "code",
   "execution_count": null,
   "metadata": {},
   "outputs": [],
   "source": [
    "print(\"Mahadi Hasan Mishuk\")  \n",
    "x=300\n",
    "y=17\n",
    "x%=y\n",
    "print(x)\n",
    "\n",
    "x=5\n",
    "y=11\n",
    "x%=y\n",
    "print(x)\n",
    "\n",
    "x=4\n",
    "y=7\n",
    "x=x//y\n",
    "print(x)\n",
    "\n",
    "\n",
    "\n",
    "a='100'\n",
    "b='200'\n",
    "print(a+b)\n",
    "\n",
    "\n",
    "\n",
    "a='100'\n",
    "b='200'\n",
    "print(a+b)\n",
    "\n",
    "a=int(a)\n",
    "b=int(b)\n",
    "print(a+b)"
   ]
  },
  {
   "cell_type": "code",
   "execution_count": 19,
   "metadata": {},
   "outputs": [
    {
     "name": "stdout",
     "output_type": "stream",
     "text": [
      "0\n",
      "1\n"
     ]
    }
   ],
   "source": [
    "# type(1+4/2)\n",
    "# bool((1>0)and (-1<0)and (1==1))\n",
    "x=4\n",
    "y=7\n",
    "x=x//y\n",
    "print(x)\n",
    "\n",
    "a=16\n",
    "b=16\n",
    "print(a//b)"
   ]
  }
 ],
 "metadata": {
  "kernelspec": {
   "display_name": "Python 3.10.8 64-bit",
   "language": "python",
   "name": "python3"
  },
  "language_info": {
   "codemirror_mode": {
    "name": "ipython",
    "version": 3
   },
   "file_extension": ".py",
   "mimetype": "text/x-python",
   "name": "python",
   "nbconvert_exporter": "python",
   "pygments_lexer": "ipython3",
   "version": "3.10.8"
  },
  "orig_nbformat": 4,
  "vscode": {
   "interpreter": {
    "hash": "e7370f93d1d0cde622a1f8e1c04877d8463912d04d973331ad4851f04de6915a"
   }
  }
 },
 "nbformat": 4,
 "nbformat_minor": 2
}
