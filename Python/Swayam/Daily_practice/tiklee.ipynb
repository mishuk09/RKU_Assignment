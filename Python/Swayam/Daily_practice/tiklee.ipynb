{
 "cells": [
  {
   "cell_type": "code",
   "execution_count": 5,
   "metadata": {},
   "outputs": [
    {
     "name": "stdout",
     "output_type": "stream",
     "text": [
      "registration form  seccussfully created...\n"
     ]
    }
   ],
   "source": [
    "from tkinter import*\n",
    "root = Tk()\n",
    "root.geometry('500x500')\n",
    "root.title(\"Registration Form\")\n",
    "\n",
    "label_0 = Label(root, text=\"Registration form\",width=20,font=(\"bold\", 20))\n",
    "label_0.place(x=90,y=53)\n",
    "\n",
    "\n",
    "label_1 = Label(root, text=\"FullName\",width=20,font=(\"bold\", 10))\n",
    "label_1.place(x=80,y=130)\n",
    "\n",
    "entry_1 = Entry(root)\n",
    "entry_1.place(x=240,y=130)\n",
    "\n",
    "label_2 = Label(root, text=\"Email\",width=20,font=(\"bold\", 10))\n",
    "label_2.place(x=68,y=180)\n",
    "\n",
    "entry_2 = Entry(root)\n",
    "entry_2.place(x=240,y=180)\n",
    "\n",
    "label_3 = Label(root, text=\"Gender\",width=20,font=(\"bold\", 10))\n",
    "label_3.place(x=70,y=230)\n",
    "var = IntVar()\n",
    "Radiobutton(root, text=\"Male\",padx = 5, variable=var, value=1).place(x=235,y=230)\n",
    "Radiobutton(root, text=\"Female\",padx = 20, variable=var, value=2).place(x=290,y=230)\n",
    "\n",
    "label_4 = Label(root, text=\"Age:\",width=20,font=(\"bold\", 10))\n",
    "label_4.place(x=70,y=280)\n",
    "\n",
    "\n",
    "entry_2 = Entry(root)\n",
    "entry_2.place(x=240,y=280)\n",
    "\n",
    "Button(root, text='Submit',width=20,bg='brown',fg='white').place(x=180,y=380)\n",
    "# it is use for display the registration form on the window\n",
    "root.mainloop()\n",
    "print(\"registration form  seccussfully created...\")"
   ]
  },
  {
   "cell_type": "code",
   "execution_count": 4,
   "metadata": {},
   "outputs": [],
   "source": [
    "# Python tkinter hello world program\n",
    "\n",
    "from tkinter import *\n",
    "\n",
    "root = Tk()\n",
    "a = Label(root, text =\"Hello World\")\n",
    "a.pack()\n",
    "\n",
    "\n",
    "root.mainloop()\n"
   ]
  },
  {
   "cell_type": "code",
   "execution_count": 3,
   "metadata": {},
   "outputs": [],
   "source": [
    "from tkinter import *\n",
    "\n",
    "\n",
    "# create root window\n",
    "root = Tk()\t\t\t\t\t\t\n",
    "\n",
    "# frame inside root window\n",
    "frame = Frame(root)\t\t\t\t\n",
    "\n",
    "# geometry method\n",
    "frame.pack()\t\t\t\t\t\t\n",
    "\n",
    "# button inside frame which is\n",
    "# inside root\n",
    "button = Button(frame, text ='Allah Mohan')\n",
    "button.pack()\t\t\t\t\t\t\n",
    "\n",
    "# Tkinter event loop\n",
    "root.mainloop()\t\t\t\t\t\n"
   ]
  }
 ],
 "metadata": {
  "kernelspec": {
   "display_name": "Python 3.10.8 64-bit",
   "language": "python",
   "name": "python3"
  },
  "language_info": {
   "codemirror_mode": {
    "name": "ipython",
    "version": 3
   },
   "file_extension": ".py",
   "mimetype": "text/x-python",
   "name": "python",
   "nbconvert_exporter": "python",
   "pygments_lexer": "ipython3",
   "version": "3.10.8"
  },
  "orig_nbformat": 4,
  "vscode": {
   "interpreter": {
    "hash": "e7370f93d1d0cde622a1f8e1c04877d8463912d04d973331ad4851f04de6915a"
   }
  }
 },
 "nbformat": 4,
 "nbformat_minor": 2
}
