{
 "cells": [
  {
   "cell_type": "code",
   "execution_count": 1,
   "metadata": {},
   "outputs": [
    {
     "name": "stdout",
     "output_type": "stream",
     "text": [
      "[0 1 2 3 4 5 6 7 8 9]\n"
     ]
    }
   ],
   "source": [
    "#1) Create a 1D array.\n",
    "import numpy as np\n",
    "\n",
    "# Create a 1D array of integers from 0 to 9\n",
    "arr = np.array([0, 1, 2, 3, 4, 5, 6, 7, 8, 9])\n",
    "\n",
    "# Print the array\n",
    "print(arr)\n"
   ]
  },
  {
   "cell_type": "code",
   "execution_count": 2,
   "metadata": {},
   "outputs": [
    {
     "name": "stdout",
     "output_type": "stream",
     "text": [
      "[[0. 0. 0.]\n",
      " [0. 0. 0.]\n",
      " [0. 0. 0.]]\n"
     ]
    }
   ],
   "source": [
    "#2) Create a 2D array with the shape of (3,3)\n",
    "import numpy as np\n",
    "\n",
    "# Create a 2D array with the shape of (3,3) filled with zeros\n",
    "arr = np.zeros((3, 3))\n",
    "\n",
    "# Print the array\n",
    "print(arr)\n"
   ]
  },
  {
   "cell_type": "code",
   "execution_count": 3,
   "metadata": {},
   "outputs": [
    {
     "name": "stdout",
     "output_type": "stream",
     "text": [
      "[[[0. 0. 0. 0.]\n",
      "  [0. 0. 0. 0.]\n",
      "  [0. 0. 0. 0.]]\n",
      "\n",
      " [[0. 0. 0. 0.]\n",
      "  [0. 0. 0. 0.]\n",
      "  [0. 0. 0. 0.]]]\n"
     ]
    }
   ],
   "source": [
    "#3.Create a 3D array with the shape of (2,3,4)\n",
    "import numpy as np\n",
    "\n",
    " \n",
    "arr = np.zeros((2, 3, 4))\n",
    " \n",
    "print(arr)\n"
   ]
  },
  {
   "cell_type": "code",
   "execution_count": 5,
   "metadata": {},
   "outputs": [
    {
     "name": "stdout",
     "output_type": "stream",
     "text": [
      "[[False False False False]\n",
      " [False False False False]\n",
      " [False False False False]\n",
      " [False False False False]]\n"
     ]
    }
   ],
   "source": [
    "#4) Create a boolean array with the shape of (4,4)\n",
    "import numpy as np\n",
    "\n",
    " \n",
    "arr = np.full((4, 4), False, dtype=bool)\n",
    "\n",
    " \n",
    "print(arr)\n"
   ]
  },
  {
   "cell_type": "code",
   "execution_count": 6,
   "metadata": {},
   "outputs": [
    {
     "name": "stdout",
     "output_type": "stream",
     "text": [
      "[[0. 0. 0. 0. 0.]\n",
      " [0. 0. 0. 0. 0.]\n",
      " [0. 0. 0. 0. 0.]\n",
      " [0. 0. 0. 0. 0.]\n",
      " [0. 0. 0. 0. 0.]]\n"
     ]
    }
   ],
   "source": [
    "#5) Create a Numpy array filled with all zeros with the shape of (5,5)\n",
    "import numpy as np\n",
    "\n",
    " \n",
    "arr = np.zeros((5, 5))\n",
    "\n",
    " \n",
    "print(arr)\n"
   ]
  },
  {
   "cell_type": "code",
   "execution_count": 7,
   "metadata": {},
   "outputs": [
    {
     "name": "stdout",
     "output_type": "stream",
     "text": [
      "[[1. 1. 1. 1. 1.]\n",
      " [1. 1. 1. 1. 1.]\n",
      " [1. 1. 1. 1. 1.]\n",
      " [1. 1. 1. 1. 1.]\n",
      " [1. 1. 1. 1. 1.]]\n"
     ]
    }
   ],
   "source": [
    "#6) Create a Numpy array filled with all ones with the shape of (5,5) \n",
    "import numpy as np\n",
    "\n",
    "# Create a 2D array with the shape of (5,5) filled with ones\n",
    "arr = np.ones((5, 5))\n",
    "\n",
    "# Print the array\n",
    "print(arr)\n"
   ]
  },
  {
   "cell_type": "code",
   "execution_count": 9,
   "metadata": {},
   "outputs": [
    {
     "name": "stdout",
     "output_type": "stream",
     "text": [
      "[[[ 1  2  3  4]\n",
      "  [ 5  6  7  8]\n",
      "  [ 9 10 11 12]]\n",
      "\n",
      " [[13 14 15 16]\n",
      "  [17 18 19 20]\n",
      "  [21 22 23 24]]]\n"
     ]
    }
   ],
   "source": [
    "#7) Create a 3-D array with the shape of (2,3,4) and Keep integer numbers from 1 to 24.\n",
    "\n",
    "#Find the total EVEN numbers ADDITION from the given 3-D array. \n",
    "\n",
    "import numpy as np\n",
    "\n",
    "arr = np.arange(1, 25).reshape(2, 3, 4)\n",
    "\n",
    "print(arr)\n"
   ]
  },
  {
   "cell_type": "code",
   "execution_count": 10,
   "metadata": {},
   "outputs": [
    {
     "name": "stdout",
     "output_type": "stream",
     "text": [
      "The total even numbers addition is: 156\n"
     ]
    }
   ],
   "source": [
    "#8) Create a 3-D array with the shape of (2,3,4) and Keep integer numbers from 1 to 24.\n",
    "\n",
    "#Find the total ODD numbers ADDITION from the given 3-D array.\n",
    " \n",
    "even_sum = np.sum(arr[arr % 2 == 0])\n",
    "\n",
    " \n",
    "print(\"The total even numbers addition is:\", even_sum)\n"
   ]
  }
 ],
 "metadata": {
  "kernelspec": {
   "display_name": "Python 3.10.8 64-bit",
   "language": "python",
   "name": "python3"
  },
  "language_info": {
   "codemirror_mode": {
    "name": "ipython",
    "version": 3
   },
   "file_extension": ".py",
   "mimetype": "text/x-python",
   "name": "python",
   "nbconvert_exporter": "python",
   "pygments_lexer": "ipython3",
   "version": "3.10.8"
  },
  "orig_nbformat": 4,
  "vscode": {
   "interpreter": {
    "hash": "e7370f93d1d0cde622a1f8e1c04877d8463912d04d973331ad4851f04de6915a"
   }
  }
 },
 "nbformat": 4,
 "nbformat_minor": 2
}
