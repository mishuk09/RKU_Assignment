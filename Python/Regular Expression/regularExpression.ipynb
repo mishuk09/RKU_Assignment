{
 "cells": [
  {
   "cell_type": "code",
   "execution_count": null,
   "metadata": {},
   "outputs": [],
   "source": [
    "import re\n",
    "\n",
    "word = input(\"Enter a word: \")\n",
    "\n",
    "if re.match('^requires', word):\n",
    "    print(\"Match\")\n",
    "else:\n",
    "    print(\"No match\")\n"
   ]
  },
  {
   "cell_type": "code",
   "execution_count": 4,
   "metadata": {},
   "outputs": [
    {
     "name": "stdout",
     "output_type": "stream",
     "text": [
      "The word 'TV@43' appears 0 times in the quote.\n"
     ]
    }
   ],
   "source": [
    "import re\n",
    "\n",
    "quote = \"A great chef is first a great technician\"\n",
    "word = input(\"Enter a word to search: \")\n",
    "\n",
    "matches = re.findall(word, quote)\n",
    "\n",
    "print(f\"The word '{word}' appears {len(matches)} times in the quote.\")\n"
   ]
  },
  {
   "cell_type": "code",
   "execution_count": 5,
   "metadata": {},
   "outputs": [
    {
     "name": "stdout",
     "output_type": "stream",
     "text": [
      "Formatted phone number: \n"
     ]
    }
   ],
   "source": [
    "import re\n",
    "\n",
    "phone_number = input(\"Enter phone number: \")\n",
    "\n",
    "formatted_number = re.sub('^00', '91', phone_number)\n",
    "\n",
    "print(f\"Formatted phone number: {formatted_number}\")\n"
   ]
  },
  {
   "cell_type": "code",
   "execution_count": 6,
   "metadata": {},
   "outputs": [
    {
     "name": "stdout",
     "output_type": "stream",
     "text": [
      "No match\n"
     ]
    }
   ],
   "source": [
    "import re\n",
    "\n",
    "word = input(\"Enter a word: \")\n",
    "\n",
    "if re.match('^h\\w\\w\\w\\wo$', word):\n",
    "    print(\"Match\")\n",
    "else:\n",
    "    print(\"No match\")\n"
   ]
  },
  {
   "cell_type": "code",
   "execution_count": 9,
   "metadata": {},
   "outputs": [
    {
     "name": "stdout",
     "output_type": "stream",
     "text": [
      "Wrong format\n"
     ]
    }
   ],
   "source": [
    "import re\n",
    "\n",
    "product_id = input(\"Enter product ID: \")\n",
    "\n",
    "if re.match('^[A-Z][a-z]@[0-9][0-9]$', product_id):\n",
    "    print(\"Searching\")\n",
    "else:\n",
    "    print(\"Wrong format\")\n"
   ]
  },
  {
   "cell_type": "code",
   "execution_count": null,
   "metadata": {},
   "outputs": [],
   "source": [
    "import re\n",
    "\n",
    "password = input(\"Enter password: \")\n",
    "\n",
    "if re.match('^(?=.*[A-Z])(?=.*[a-z])(?=.*\\d)(?=.*[@#$%^&+=]).+$', password):\n",
    "    print(\"Password successfully created\")\n",
    "else:\n",
    "    print(\"Password does not meet requirements\")\n"
   ]
  },
  {
   "cell_type": "code",
   "execution_count": null,
   "metadata": {},
   "outputs": [],
   "source": [
    "import re\n",
    "\n",
    "text = \"I love #python and #datascience! #codinglife #100DaysOfCode\"\n",
    "\n",
    "hashtags = re.findall(r'#\\w+', text)\n",
    "\n",
    "print(hashtags)\n"
   ]
  }
 ],
 "metadata": {
  "kernelspec": {
   "display_name": "Python 3.10.8 64-bit",
   "language": "python",
   "name": "python3"
  },
  "language_info": {
   "codemirror_mode": {
    "name": "ipython",
    "version": 3
   },
   "file_extension": ".py",
   "mimetype": "text/x-python",
   "name": "python",
   "nbconvert_exporter": "python",
   "pygments_lexer": "ipython3",
   "version": "3.10.8"
  },
  "orig_nbformat": 4,
  "vscode": {
   "interpreter": {
    "hash": "e7370f93d1d0cde622a1f8e1c04877d8463912d04d973331ad4851f04de6915a"
   }
  }
 },
 "nbformat": 4,
 "nbformat_minor": 2
}
